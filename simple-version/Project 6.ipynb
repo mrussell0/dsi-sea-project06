{
 "cells": [
  {
   "cell_type": "code",
   "execution_count": 1,
   "metadata": {
    "collapsed": false
   },
   "outputs": [
    {
     "name": "stderr",
     "output_type": "stream",
     "text": [
      "/Users/work/anaconda/lib/python2.7/site-packages/sklearn/cross_validation.py:44: DeprecationWarning: This module was deprecated in version 0.18 in favor of the model_selection module into which all the refactored classes and functions are moved. Also note that the interface of the new CV iterators are different from that of this module. This module will be removed in 0.20.\n",
      "  \"This module will be removed in 0.20.\", DeprecationWarning)\n"
     ]
    }
   ],
   "source": [
    "import pandas as pd\n",
    "import numpy as np\n",
    "import seaborn as sns\n",
    "import json\n",
    "import urllib2\n",
    "import requests\n",
    "from bs4 import BeautifulSoup\n",
    "import re\n",
    "import datetime\n",
    "import matplotlib.pyplot as plt\n",
    "%matplotlib inline\n",
    "\n",
    "\n",
    "from sklearn.linear_model import LogisticRegression\n",
    "from sklearn.cross_validation import train_test_split\n",
    "from sklearn.metrics import confusion_matrix,accuracy_score\n",
    "from sklearn.model_selection import cross_val_score\n",
    "from sklearn.tree import DecisionTreeRegressor\n",
    "from sklearn import tree\n",
    "import os"
   ]
  },
  {
   "cell_type": "markdown",
   "metadata": {},
   "source": [
    "Problem statement\n",
    "\n",
    "I aim to predict the the imdb rating given other freely available data. Does the actor, director or genre have a significant impact on the rating of the movie? Do public reviews reflect the rating of the movie?"
   ]
  },
  {
   "cell_type": "markdown",
   "metadata": {},
   "source": [
    "Future improvements:\n",
    "\n",
    "\n",
    "Incorperate review data.\n",
    "\n",
    "Build better features.\n",
    "Save Data to CSV."
   ]
  },
  {
   "cell_type": "markdown",
   "metadata": {},
   "source": [
    "## Collecting the data"
   ]
  },
  {
   "cell_type": "code",
   "execution_count": 2,
   "metadata": {
    "collapsed": true
   },
   "outputs": [],
   "source": [
    "#collect movie IDs from the top 250\n",
    "data = BeautifulSoup(urllib2.urlopen('http://www.imdb.com/chart/top'), \"lxml\")"
   ]
  },
  {
   "cell_type": "code",
   "execution_count": 3,
   "metadata": {
    "collapsed": false
   },
   "outputs": [],
   "source": [
    "#scrape through imdb titles and build a list of movie ids\n",
    "tables = data.find_all('table')\n",
    "table = tables[0]\n",
    "\n",
    "movie_id = []\n",
    "for idx, tr in enumerate(table.find_all('tr')):\n",
    "    if idx > 0:\n",
    "        for idx1, a in enumerate(tr.find_all('a')):\n",
    "            if idx1 ==0:\n",
    "                movie_id.append(a['href'].split('/')[2])"
   ]
  },
  {
   "cell_type": "code",
   "execution_count": 4,
   "metadata": {
    "collapsed": false
   },
   "outputs": [],
   "source": [
    "iddf = pd.DataFrame(movie_id)"
   ]
  },
  {
   "cell_type": "code",
   "execution_count": 5,
   "metadata": {
    "collapsed": false
   },
   "outputs": [],
   "source": [
    "## scrape through movie ids to build a data frame of movie information.\n",
    "info = pd.DataFrame()\n",
    "for i in movie_id:\n",
    "    soup = BeautifulSoup(urllib2.urlopen('http://www.omdbapi.com/?i='+ i), \"lxml\")\n",
    "    parsed_json = json.loads(soup.text)\n",
    "    info = pd.concat((info, (pd.DataFrame([parsed_json]))), axis = 0)\n",
    "\n",
    "info.index = (range(len(info)))"
   ]
  },
  {
   "cell_type": "code",
   "execution_count": 6,
   "metadata": {
    "collapsed": false
   },
   "outputs": [],
   "source": [
    "base = 'http://www.imdb.com'\n",
    "urls = []\n",
    "for idx, row in enumerate(table.find_all('tr')):\n",
    "    if idx > 0:\n",
    "        urls.append(base + row.find('a').get('href'))"
   ]
  },
  {
   "cell_type": "code",
   "execution_count": 7,
   "metadata": {
    "collapsed": false
   },
   "outputs": [],
   "source": [
    "def FindGross(url):\n",
    "    page = BeautifulSoup(urllib2.urlopen(url), \"lxml\")\n",
    "    tables = page.find_all('div', attrs = {\"class\": \"article\", \"id\": \"titleDetails\" })\n",
    "    gross = 0.0\n",
    "    for idx, div in enumerate(tables[0].find_all('div', attrs = {\"class\": \"txt-block\"})):\n",
    "            if 'Gross' in div.text:\n",
    "                gross = float((div.text.split('$')[1]).split(' ')[0].replace(',', ''))\n",
    "    return gross\n",
    "\n",
    "Mov_gross = []\n",
    "for url in urls:\n",
    "    Mov_gross += [FindGross(url)]"
   ]
  },
  {
   "cell_type": "code",
   "execution_count": 8,
   "metadata": {
    "collapsed": true
   },
   "outputs": [],
   "source": [
    "grossdb = pd.DataFrame(Mov_gross)"
   ]
  },
  {
   "cell_type": "code",
   "execution_count": 9,
   "metadata": {
    "collapsed": false
   },
   "outputs": [],
   "source": [
    "## Getting IMDB Reviews\n",
    "from imdbpie import Imdb\n",
    "imdb = Imdb()\n",
    "imdb = Imdb(anonymize=True) # to proxy requests"
   ]
  },
  {
   "cell_type": "code",
   "execution_count": 294,
   "metadata": {
    "collapsed": false
   },
   "outputs": [],
   "source": [
    "# #imdb.get_title_reviews(\"tt0468569\", max_results=1)[0].text\n",
    "# dicty = {}\n",
    "# count = 0\n",
    "# for i in movie_id:\n",
    "#     dicty[i] = imdb.get_title_reviews(i, max_results=20)\n",
    "#     count +=1\n",
    "#     print count\n",
    "# reviews = pd.DataFrame(dicty, index=[0])"
   ]
  },
  {
   "cell_type": "code",
   "execution_count": 10,
   "metadata": {
    "collapsed": false
   },
   "outputs": [
    {
     "name": "stdout",
     "output_type": "stream",
     "text": [
      "1\n",
      "2\n",
      "3\n",
      "4\n",
      "5\n",
      "6\n",
      "7\n",
      "8\n",
      "9\n",
      "10\n",
      "11\n",
      "12\n",
      "13\n",
      "14\n",
      "15\n",
      "16\n",
      "17\n",
      "18\n",
      "19\n",
      "20\n",
      "21\n",
      "22\n",
      "23\n",
      "24\n",
      "25\n",
      "26\n",
      "27\n",
      "28\n",
      "29\n",
      "30\n",
      "31\n",
      "32\n",
      "33\n",
      "34\n",
      "35\n",
      "36\n",
      "37\n",
      "38\n",
      "39\n",
      "40\n",
      "41\n",
      "42\n",
      "43\n",
      "44\n",
      "45\n",
      "46\n",
      "47\n",
      "48\n",
      "49\n",
      "50\n",
      "51\n",
      "52\n",
      "53\n",
      "54\n",
      "55\n",
      "56\n",
      "57\n",
      "58\n",
      "59\n",
      "60\n",
      "61\n",
      "62\n",
      "63\n",
      "64\n",
      "65\n",
      "66\n",
      "67\n",
      "68\n",
      "69\n",
      "70\n",
      "71\n",
      "72\n",
      "73\n",
      "74\n",
      "75\n",
      "76\n",
      "77\n",
      "78\n",
      "79\n",
      "80\n",
      "81\n",
      "82\n",
      "83\n",
      "84\n",
      "85\n",
      "86\n",
      "87\n",
      "88\n",
      "89\n",
      "90\n",
      "91\n",
      "92\n",
      "93\n",
      "94\n",
      "95\n",
      "96\n",
      "97\n",
      "98\n",
      "99\n",
      "100\n",
      "101\n",
      "102\n",
      "103\n",
      "104\n",
      "105\n",
      "106\n",
      "107\n",
      "108\n",
      "109\n",
      "110\n",
      "111\n",
      "112\n",
      "113\n",
      "114\n",
      "115\n",
      "116\n",
      "117\n",
      "118\n",
      "119\n",
      "120\n",
      "121\n",
      "122\n",
      "123\n",
      "124\n",
      "125\n",
      "126\n",
      "127\n",
      "128\n",
      "129\n",
      "130\n",
      "131\n",
      "132\n",
      "133\n",
      "134\n",
      "135\n",
      "136\n",
      "137\n",
      "138\n",
      "139\n",
      "140\n",
      "141\n",
      "142\n",
      "143\n",
      "144\n",
      "145\n",
      "146\n",
      "147\n",
      "148\n",
      "149\n",
      "150\n",
      "151\n",
      "152\n",
      "153\n",
      "154\n",
      "155\n",
      "156\n",
      "157\n",
      "158\n",
      "159\n",
      "160\n",
      "161\n",
      "162\n",
      "163\n",
      "164\n",
      "165\n",
      "166\n",
      "167\n",
      "168\n",
      "169\n",
      "170\n",
      "171\n",
      "172\n",
      "173\n",
      "174\n",
      "175\n",
      "176\n",
      "177\n",
      "178\n",
      "179\n",
      "180\n",
      "181\n",
      "182\n",
      "183\n",
      "184\n",
      "185\n",
      "186\n",
      "187\n",
      "188\n",
      "189\n",
      "190\n",
      "191\n",
      "192\n",
      "193\n",
      "194\n",
      "195\n",
      "196\n",
      "197\n",
      "198\n",
      "199\n",
      "200\n",
      "201\n",
      "202\n",
      "203\n",
      "204\n",
      "205\n",
      "206\n",
      "207\n",
      "208\n",
      "209\n",
      "210\n",
      "211\n",
      "212\n",
      "213\n",
      "214\n",
      "215\n",
      "216\n",
      "217\n",
      "218\n",
      "219\n",
      "220\n",
      "221\n",
      "222\n",
      "223\n",
      "224\n",
      "225\n",
      "226\n",
      "227\n",
      "228\n",
      "229\n",
      "230\n",
      "231\n",
      "232\n",
      "233\n",
      "234\n",
      "235\n",
      "236\n",
      "237\n",
      "238\n",
      "239\n",
      "240\n",
      "241\n",
      "242\n",
      "243\n",
      "244\n",
      "245\n",
      "246\n",
      "247\n",
      "248\n",
      "249\n",
      "250\n"
     ]
    }
   ],
   "source": [
    "reviews = {}\n",
    "count = 0\n",
    "for i in movie_id:\n",
    "    reviews[i] = imdb.get_title_reviews(i, max_results=20)\n",
    "    count +=1\n",
    "    print count\n",
    "reviews = pd.DataFrame(reviews)"
   ]
  },
  {
   "cell_type": "code",
   "execution_count": 12,
   "metadata": {
    "collapsed": true
   },
   "outputs": [],
   "source": [
    "reviews = reviews.transpose()"
   ]
  },
  {
   "cell_type": "code",
   "execution_count": 13,
   "metadata": {
    "collapsed": false
   },
   "outputs": [
    {
     "data": {
      "text/html": [
       "<div>\n",
       "<table border=\"1\" class=\"dataframe\">\n",
       "  <thead>\n",
       "    <tr style=\"text-align: right;\">\n",
       "      <th></th>\n",
       "      <th>0</th>\n",
       "      <th>1</th>\n",
       "      <th>2</th>\n",
       "      <th>3</th>\n",
       "      <th>4</th>\n",
       "      <th>5</th>\n",
       "      <th>6</th>\n",
       "      <th>7</th>\n",
       "      <th>8</th>\n",
       "      <th>9</th>\n",
       "      <th>10</th>\n",
       "      <th>11</th>\n",
       "      <th>12</th>\n",
       "      <th>13</th>\n",
       "      <th>14</th>\n",
       "      <th>15</th>\n",
       "      <th>16</th>\n",
       "      <th>17</th>\n",
       "      <th>18</th>\n",
       "      <th>19</th>\n",
       "    </tr>\n",
       "  </thead>\n",
       "  <tbody>\n",
       "    <tr>\n",
       "      <th>0</th>\n",
       "      <td>\\nIt is hard to find such delightful and adora...</td>\n",
       "      <td>THE KID (First National Pictures, 1921), a com...</td>\n",
       "      <td>\\nWhile perhaps not as celebrated now as some ...</td>\n",
       "      <td>Wow, is this a memorable film! It is one of th...</td>\n",
       "      <td>\"The Kid\" is a powerfully emotional and wonder...</td>\n",
       "      <td>\\nIs there a way to name the greatest filmmake...</td>\n",
       "      <td>I've always thought there's a great beauty and...</td>\n",
       "      <td>It's easy to call Charlie Chaplin a genius, bu...</td>\n",
       "      <td>Charlie Chaplin was perhaps the most innovativ...</td>\n",
       "      <td>\\nCharlie Chaplin's study of a tramp teaming u...</td>\n",
       "      <td>The Kid became a critically hailed internation...</td>\n",
       "      <td>When watching this, I wanted to give the film ...</td>\n",
       "      <td>Charlie Chaplin's first full length feature fi...</td>\n",
       "      <td>What makes a feature film different to a short...</td>\n",
       "      <td>The simple, lovely story of an abandoned kid a...</td>\n",
       "      <td>Due to an unwed mother abandoning her child in...</td>\n",
       "      <td>\"The Kid\" was released in 1921, at the pinnacl...</td>\n",
       "      <td>This is such a incredible movie...Along with \"...</td>\n",
       "      <td>The opening title to this film reads \"A film w...</td>\n",
       "      <td>A picture with a smile and perhaps, a tear.\\n\\...</td>\n",
       "    </tr>\n",
       "    <tr>\n",
       "      <th>1</th>\n",
       "      <td>\\nThe Gold Rush is pure gold.  It was Charlie ...</td>\n",
       "      <td>\\nThe Gold Rush is one of Chaplin's best films...</td>\n",
       "      <td>Charlie Chaplin's silent film (also re-release...</td>\n",
       "      <td>If any single figure can fairly be said to sym...</td>\n",
       "      <td>To see Charlie Chaplin's The Gold Rush is to k...</td>\n",
       "      <td>\\nCharles Chaplin's \"The Gold Rush\" is arguabl...</td>\n",
       "      <td>The 1898 Gold Rush to Alaska may have been har...</td>\n",
       "      <td>\\nThis silent classic has many strong points -...</td>\n",
       "      <td>In Charles Chaplin's 1925 film, \"The Gold Rush...</td>\n",
       "      <td>\\nOne of the best Chaplin movies, which means ...</td>\n",
       "      <td>\\nCharlie Chaplin is the Lone Prospector who g...</td>\n",
       "      <td>I've seen both version of this film--the origi...</td>\n",
       "      <td>We follow \"the little fellow\" (Chaplin), in hi...</td>\n",
       "      <td>To be perfectly honest, I wish I could denounc...</td>\n",
       "      <td>All the best Chaplin films have one unique sce...</td>\n",
       "      <td>THE GOLD RUSH (United Artists, 1925), written,...</td>\n",
       "      <td>\\nIf anyone doubts that Charlie Chaplin was on...</td>\n",
       "      <td>\\nMake them laugh, make them laugh. The Americ...</td>\n",
       "      <td>\\nSpoilers herein.\\n\\nI consider `City Lights'...</td>\n",
       "      <td>Spoiler Alert:\\n\\n\"The Gold Rush\" is perhaps o...</td>\n",
       "    </tr>\n",
       "    <tr>\n",
       "      <th>2</th>\n",
       "      <td>\\nThis must be one of the greatest movies of a...</td>\n",
       "      <td>Fritz Lang's Metropolis is the first true mast...</td>\n",
       "      <td>\\nI was shocked to find myself riveted to this...</td>\n",
       "      <td>\\nI doubt that I'd ever seen anything resembli...</td>\n",
       "      <td>\\nWho ever heard of an epic science fiction fi...</td>\n",
       "      <td>Technically speaking, I have seen this Fritz L...</td>\n",
       "      <td>In the future, the society of Metropolis is di...</td>\n",
       "      <td>\\nMetropolis is surely one of the greatest fil...</td>\n",
       "      <td>\\nSilent movies are not for everyone. Neither ...</td>\n",
       "      <td>Fritz Lang's groundbreaking landmark remains o...</td>\n",
       "      <td>One definitely can't fault the breadth and amb...</td>\n",
       "      <td>'Metropolis' is my all-time favourite movie, s...</td>\n",
       "      <td>\"There can be no understanding between the han...</td>\n",
       "      <td>This review contains Spoilers. But since the s...</td>\n",
       "      <td>Francis Ford Coppola once said that 'Apocalyps...</td>\n",
       "      <td>Metropolis\\n\\nMetropolis is one of the most ex...</td>\n",
       "      <td>This truly is a classic masterpiece and honest...</td>\n",
       "      <td>OK, first of all. I'm not some kind of action-...</td>\n",
       "      <td>Metropolis may just be the most influential mo...</td>\n",
       "      <td>In 2026 Metropolis is run by the wealthy indus...</td>\n",
       "    </tr>\n",
       "    <tr>\n",
       "      <th>3</th>\n",
       "      <td>\\nProbably Buster Keaton's best film, and oddl...</td>\n",
       "      <td>Buster Keaton once said that if he hadn't been...</td>\n",
       "      <td>Buster Keaton's \"The General,\" about a man and...</td>\n",
       "      <td>It is \"generally\" (or should I pun and say \"Ge...</td>\n",
       "      <td>\\nTHE GENERAL represents the greatest achievem...</td>\n",
       "      <td>No one will top Keaton for physical risk, and ...</td>\n",
       "      <td>\\nOne of the great masterpieces of cinema, Bus...</td>\n",
       "      <td>I haven't had so much fun watching a movie for...</td>\n",
       "      <td>\\nI've seen one other silent movie in my life,...</td>\n",
       "      <td>I would have eventually gotten around to watch...</td>\n",
       "      <td>Buster Keaton always amazes me. He was truly o...</td>\n",
       "      <td>\\nBuster Keaton is simply awesome, only he cou...</td>\n",
       "      <td>Buster Keaton 's performance in \"The General\" ...</td>\n",
       "      <td>When watching The General (1926), the similari...</td>\n",
       "      <td>I feel the The General is a great silent film ...</td>\n",
       "      <td>Johnnie Gray, a train engineer, tries to enlis...</td>\n",
       "      <td>I first encountered Buster Keaton in \"A Funny ...</td>\n",
       "      <td>I saw this movie once, about 8 years ago, and ...</td>\n",
       "      <td>It was an early Saturday afternoon, and I was ...</td>\n",
       "      <td>\\nHaving read through the various comments on ...</td>\n",
       "    </tr>\n",
       "    <tr>\n",
       "      <th>4</th>\n",
       "      <td>I finally got a hold of the 'Sunrise' DVD, whi...</td>\n",
       "      <td>\\nWhile some film critics disagreed in the lat...</td>\n",
       "      <td>\\nI am a big fan of the silent era, especially...</td>\n",
       "      <td>\\nThis is one of the few movies that fully des...</td>\n",
       "      <td>This Murnau work comes from the end of the sil...</td>\n",
       "      <td>Before the movie starts properly, Sunrise prof...</td>\n",
       "      <td>\\nPut simply, not only the greatest silent fil...</td>\n",
       "      <td>\\nI have no words. This is cinema. This is not...</td>\n",
       "      <td>\\nI found this movie at the library the other ...</td>\n",
       "      <td>\\nA lot of film historians will tell you that ...</td>\n",
       "      <td>\\nSUNRISE is easily the greatest film made in ...</td>\n",
       "      <td>... and yes, I have plot spoilers in this revi...</td>\n",
       "      <td>In that first year of the Academy Awards when ...</td>\n",
       "      <td>I usually don't care much for silent films, bu...</td>\n",
       "      <td>\\nSunrise is a masterpiece, and its influence ...</td>\n",
       "      <td>Murnau seems to be gaining a new appreciation ...</td>\n",
       "      <td>\\nThis is the third F.W. Murnau film I've seen...</td>\n",
       "      <td>Just as the silent era was drawing to a close,...</td>\n",
       "      <td>\\nA man and woman live on a farm in the Europe...</td>\n",
       "      <td>F.W. Murnau worked with this film for a severa...</td>\n",
       "    </tr>\n",
       "  </tbody>\n",
       "</table>\n",
       "</div>"
      ],
      "text/plain": [
       "                                                  0   \\\n",
       "0  \\nIt is hard to find such delightful and adora...   \n",
       "1  \\nThe Gold Rush is pure gold.  It was Charlie ...   \n",
       "2  \\nThis must be one of the greatest movies of a...   \n",
       "3  \\nProbably Buster Keaton's best film, and oddl...   \n",
       "4  I finally got a hold of the 'Sunrise' DVD, whi...   \n",
       "\n",
       "                                                  1   \\\n",
       "0  THE KID (First National Pictures, 1921), a com...   \n",
       "1  \\nThe Gold Rush is one of Chaplin's best films...   \n",
       "2  Fritz Lang's Metropolis is the first true mast...   \n",
       "3  Buster Keaton once said that if he hadn't been...   \n",
       "4  \\nWhile some film critics disagreed in the lat...   \n",
       "\n",
       "                                                  2   \\\n",
       "0  \\nWhile perhaps not as celebrated now as some ...   \n",
       "1  Charlie Chaplin's silent film (also re-release...   \n",
       "2  \\nI was shocked to find myself riveted to this...   \n",
       "3  Buster Keaton's \"The General,\" about a man and...   \n",
       "4  \\nI am a big fan of the silent era, especially...   \n",
       "\n",
       "                                                  3   \\\n",
       "0  Wow, is this a memorable film! It is one of th...   \n",
       "1  If any single figure can fairly be said to sym...   \n",
       "2  \\nI doubt that I'd ever seen anything resembli...   \n",
       "3  It is \"generally\" (or should I pun and say \"Ge...   \n",
       "4  \\nThis is one of the few movies that fully des...   \n",
       "\n",
       "                                                  4   \\\n",
       "0  \"The Kid\" is a powerfully emotional and wonder...   \n",
       "1  To see Charlie Chaplin's The Gold Rush is to k...   \n",
       "2  \\nWho ever heard of an epic science fiction fi...   \n",
       "3  \\nTHE GENERAL represents the greatest achievem...   \n",
       "4  This Murnau work comes from the end of the sil...   \n",
       "\n",
       "                                                  5   \\\n",
       "0  \\nIs there a way to name the greatest filmmake...   \n",
       "1  \\nCharles Chaplin's \"The Gold Rush\" is arguabl...   \n",
       "2  Technically speaking, I have seen this Fritz L...   \n",
       "3  No one will top Keaton for physical risk, and ...   \n",
       "4  Before the movie starts properly, Sunrise prof...   \n",
       "\n",
       "                                                  6   \\\n",
       "0  I've always thought there's a great beauty and...   \n",
       "1  The 1898 Gold Rush to Alaska may have been har...   \n",
       "2  In the future, the society of Metropolis is di...   \n",
       "3  \\nOne of the great masterpieces of cinema, Bus...   \n",
       "4  \\nPut simply, not only the greatest silent fil...   \n",
       "\n",
       "                                                  7   \\\n",
       "0  It's easy to call Charlie Chaplin a genius, bu...   \n",
       "1  \\nThis silent classic has many strong points -...   \n",
       "2  \\nMetropolis is surely one of the greatest fil...   \n",
       "3  I haven't had so much fun watching a movie for...   \n",
       "4  \\nI have no words. This is cinema. This is not...   \n",
       "\n",
       "                                                  8   \\\n",
       "0  Charlie Chaplin was perhaps the most innovativ...   \n",
       "1  In Charles Chaplin's 1925 film, \"The Gold Rush...   \n",
       "2  \\nSilent movies are not for everyone. Neither ...   \n",
       "3  \\nI've seen one other silent movie in my life,...   \n",
       "4  \\nI found this movie at the library the other ...   \n",
       "\n",
       "                                                  9   \\\n",
       "0  \\nCharlie Chaplin's study of a tramp teaming u...   \n",
       "1  \\nOne of the best Chaplin movies, which means ...   \n",
       "2  Fritz Lang's groundbreaking landmark remains o...   \n",
       "3  I would have eventually gotten around to watch...   \n",
       "4  \\nA lot of film historians will tell you that ...   \n",
       "\n",
       "                                                  10  \\\n",
       "0  The Kid became a critically hailed internation...   \n",
       "1  \\nCharlie Chaplin is the Lone Prospector who g...   \n",
       "2  One definitely can't fault the breadth and amb...   \n",
       "3  Buster Keaton always amazes me. He was truly o...   \n",
       "4  \\nSUNRISE is easily the greatest film made in ...   \n",
       "\n",
       "                                                  11  \\\n",
       "0  When watching this, I wanted to give the film ...   \n",
       "1  I've seen both version of this film--the origi...   \n",
       "2  'Metropolis' is my all-time favourite movie, s...   \n",
       "3  \\nBuster Keaton is simply awesome, only he cou...   \n",
       "4  ... and yes, I have plot spoilers in this revi...   \n",
       "\n",
       "                                                  12  \\\n",
       "0  Charlie Chaplin's first full length feature fi...   \n",
       "1  We follow \"the little fellow\" (Chaplin), in hi...   \n",
       "2  \"There can be no understanding between the han...   \n",
       "3  Buster Keaton 's performance in \"The General\" ...   \n",
       "4  In that first year of the Academy Awards when ...   \n",
       "\n",
       "                                                  13  \\\n",
       "0  What makes a feature film different to a short...   \n",
       "1  To be perfectly honest, I wish I could denounc...   \n",
       "2  This review contains Spoilers. But since the s...   \n",
       "3  When watching The General (1926), the similari...   \n",
       "4  I usually don't care much for silent films, bu...   \n",
       "\n",
       "                                                  14  \\\n",
       "0  The simple, lovely story of an abandoned kid a...   \n",
       "1  All the best Chaplin films have one unique sce...   \n",
       "2  Francis Ford Coppola once said that 'Apocalyps...   \n",
       "3  I feel the The General is a great silent film ...   \n",
       "4  \\nSunrise is a masterpiece, and its influence ...   \n",
       "\n",
       "                                                  15  \\\n",
       "0  Due to an unwed mother abandoning her child in...   \n",
       "1  THE GOLD RUSH (United Artists, 1925), written,...   \n",
       "2  Metropolis\\n\\nMetropolis is one of the most ex...   \n",
       "3  Johnnie Gray, a train engineer, tries to enlis...   \n",
       "4  Murnau seems to be gaining a new appreciation ...   \n",
       "\n",
       "                                                  16  \\\n",
       "0  \"The Kid\" was released in 1921, at the pinnacl...   \n",
       "1  \\nIf anyone doubts that Charlie Chaplin was on...   \n",
       "2  This truly is a classic masterpiece and honest...   \n",
       "3  I first encountered Buster Keaton in \"A Funny ...   \n",
       "4  \\nThis is the third F.W. Murnau film I've seen...   \n",
       "\n",
       "                                                  17  \\\n",
       "0  This is such a incredible movie...Along with \"...   \n",
       "1  \\nMake them laugh, make them laugh. The Americ...   \n",
       "2  OK, first of all. I'm not some kind of action-...   \n",
       "3  I saw this movie once, about 8 years ago, and ...   \n",
       "4  Just as the silent era was drawing to a close,...   \n",
       "\n",
       "                                                  18  \\\n",
       "0  The opening title to this film reads \"A film w...   \n",
       "1  \\nSpoilers herein.\\n\\nI consider `City Lights'...   \n",
       "2  Metropolis may just be the most influential mo...   \n",
       "3  It was an early Saturday afternoon, and I was ...   \n",
       "4  \\nA man and woman live on a farm in the Europe...   \n",
       "\n",
       "                                                  19  \n",
       "0  A picture with a smile and perhaps, a tear.\\n\\...  \n",
       "1  Spoiler Alert:\\n\\n\"The Gold Rush\" is perhaps o...  \n",
       "2  In 2026 Metropolis is run by the wealthy indus...  \n",
       "3  \\nHaving read through the various comments on ...  \n",
       "4  F.W. Murnau worked with this film for a severa...  "
      ]
     },
     "execution_count": 13,
     "metadata": {},
     "output_type": "execute_result"
    }
   ],
   "source": [
    "dicty_ = {}\n",
    "for i in reviews:\n",
    "    for j in reviews[i]:\n",
    "        if i not in dicty_:\n",
    "            dicty_[i] = [j.text]\n",
    "        else:\n",
    "            dicty_[i] += [j.text]\n",
    "reviews = pd.DataFrame(dicty_)\n",
    "reviews.head()"
   ]
  },
  {
   "cell_type": "code",
   "execution_count": 14,
   "metadata": {
    "collapsed": false
   },
   "outputs": [],
   "source": [
    "reviews = pd.DataFrame(dicty_)\n",
    "#reviews.head()"
   ]
  },
  {
   "cell_type": "markdown",
   "metadata": {},
   "source": [
    "## Data Munging"
   ]
  },
  {
   "cell_type": "code",
   "execution_count": 15,
   "metadata": {
    "collapsed": false
   },
   "outputs": [
    {
     "data": {
      "text/plain": [
       "array([u'Actors', u'Awards', u'Country', u'Director', u'Genre',\n",
       "       u'Language', u'Metascore', u'Plot', u'Poster', u'Rated',\n",
       "       u'Released', u'Response', u'Runtime', u'Title', u'Type', u'Writer',\n",
       "       u'Year', u'imdbID', u'imdbRating', u'imdbVotes'], dtype=object)"
      ]
     },
     "execution_count": 15,
     "metadata": {},
     "output_type": "execute_result"
    }
   ],
   "source": [
    "info.columns.values"
   ]
  },
  {
   "cell_type": "code",
   "execution_count": 16,
   "metadata": {
    "collapsed": false
   },
   "outputs": [],
   "source": [
    "info['Released'] = info['Released'].apply(lambda x: datetime.datetime.strptime(x, '%d %b %Y') if x!= 'N/A' else np.nan)\n",
    "info['Runtime'] = info['Runtime'].apply(lambda x: x.split(' ')[0])\n",
    "info['imdbVotes'] = info['imdbVotes'].apply(lambda x: int(x.replace(\",\", \"\")))\n",
    "info['imdbRating'] = info['imdbRating'].apply(lambda x: float(x))\n"
   ]
  },
  {
   "cell_type": "code",
   "execution_count": 17,
   "metadata": {
    "collapsed": true
   },
   "outputs": [],
   "source": [
    "grossdb.columns = ['Gross']\n",
    "df = pd.concat((info, grossdb), axis= 1)"
   ]
  },
  {
   "cell_type": "markdown",
   "metadata": {},
   "source": [
    "## Feature Selection and Engineering"
   ]
  },
  {
   "cell_type": "code",
   "execution_count": 18,
   "metadata": {
    "collapsed": false
   },
   "outputs": [],
   "source": [
    "dfbackup = df"
   ]
  },
  {
   "cell_type": "code",
   "execution_count": 19,
   "metadata": {
    "collapsed": false
   },
   "outputs": [
    {
     "data": {
      "text/plain": [
       "array([u'Actors', u'Awards', u'Country', u'Director', u'Genre',\n",
       "       u'Language', u'Metascore', u'Plot', u'Poster', u'Rated',\n",
       "       u'Released', u'Response', u'Runtime', u'Title', u'Type', u'Writer',\n",
       "       u'Year', u'imdbID', u'imdbRating', u'imdbVotes', 'Gross'], dtype=object)"
      ]
     },
     "execution_count": 19,
     "metadata": {},
     "output_type": "execute_result"
    }
   ],
   "source": [
    "df.columns.values"
   ]
  },
  {
   "cell_type": "code",
   "execution_count": 20,
   "metadata": {
    "collapsed": false
   },
   "outputs": [],
   "source": [
    "## create dummies for genre\n",
    "from sklearn.feature_extraction.text import CountVectorizer\n",
    "vectorizer = CountVectorizer(max_features = 1000,\n",
    "                             ngram_range=(1,1),\n",
    "                             stop_words='english',\n",
    "                             binary=True,\n",
    "                             token_pattern='(?u)\\\\b\\\\w\\\\w+-?\\\\w+\\\\b'\n",
    "                            )"
   ]
  },
  {
   "cell_type": "code",
   "execution_count": 21,
   "metadata": {
    "collapsed": true
   },
   "outputs": [],
   "source": [
    "xgen =  vectorizer.fit_transform(info.Genre)\n",
    "genre_dummies = pd.DataFrame(xgen.todense(), columns = vectorizer.get_feature_names())"
   ]
  },
  {
   "cell_type": "code",
   "execution_count": 22,
   "metadata": {
    "collapsed": true
   },
   "outputs": [],
   "source": [
    "#create dummies for actor\n",
    "vectorizer = CountVectorizer(binary=True,\n",
    "                             max_features=1000,\n",
    "                             tokenizer=lambda x: x.split(', ')\n",
    "                            )"
   ]
  },
  {
   "cell_type": "code",
   "execution_count": 23,
   "metadata": {
    "collapsed": true
   },
   "outputs": [],
   "source": [
    "xgen =  vectorizer.fit_transform(info.Actors)\n",
    "actor_dummies = pd.DataFrame(xgen.todense(), columns = vectorizer.get_feature_names())"
   ]
  },
  {
   "cell_type": "code",
   "execution_count": 57,
   "metadata": {
    "collapsed": false
   },
   "outputs": [
    {
     "data": {
      "text/plain": [
       "900"
      ]
     },
     "execution_count": 57,
     "metadata": {},
     "output_type": "execute_result"
    }
   ],
   "source": [
    "len(df.columns.values)"
   ]
  },
  {
   "cell_type": "code",
   "execution_count": 26,
   "metadata": {
    "collapsed": true
   },
   "outputs": [],
   "source": [
    "vectorizer = CountVectorizer(binary=True,\n",
    "                             max_features=1000,\n",
    "                             tokenizer=lambda x: x.split(', ')\n",
    "                            )\n",
    "xgen =  vectorizer.fit_transform(df.Country)\n",
    "country_dummies = pd.DataFrame(xgen.todense(), columns = vectorizer.get_feature_names())"
   ]
  },
  {
   "cell_type": "code",
   "execution_count": 27,
   "metadata": {
    "collapsed": true
   },
   "outputs": [],
   "source": [
    "vectorizer = CountVectorizer(binary=True,\n",
    "                             max_features=100,\n",
    "                             tokenizer=lambda x: x.split(', ')\n",
    "                            )\n",
    "xgen =  vectorizer.fit_transform(df.Plot)\n",
    "plot_dummies = pd.DataFrame(xgen.todense(), columns = vectorizer.get_feature_names())"
   ]
  },
  {
   "cell_type": "code",
   "execution_count": 28,
   "metadata": {
    "collapsed": true
   },
   "outputs": [],
   "source": [
    "df = pd.concat((df, actor_dummies, genre_dummies, country_dummies), axis= 1)"
   ]
  },
  {
   "cell_type": "markdown",
   "metadata": {},
   "source": [
    "## Build a model"
   ]
  },
  {
   "cell_type": "code",
   "execution_count": 30,
   "metadata": {
    "collapsed": true
   },
   "outputs": [],
   "source": [
    "dfbackup = df"
   ]
  },
  {
   "cell_type": "code",
   "execution_count": 50,
   "metadata": {
    "collapsed": true
   },
   "outputs": [],
   "source": [
    "from sklearn.preprocessing import StandardScaler, Normalizer\n",
    "X = StandardScaler()\n",
    "X = X.fit_transform(df._get_numeric_data().drop(\"imdbRating\", axis=1))\n",
    "y = df.imdbRating"
   ]
  },
  {
   "cell_type": "code",
   "execution_count": 51,
   "metadata": {
    "collapsed": false
   },
   "outputs": [],
   "source": [
    "from sklearn.tree import DecisionTreeRegressor\n",
    "from sklearn.cross_validation import train_test_split, cross_val_score\n",
    "from sklearn.ensemble import RandomForestRegressor, AdaBoostRegressor, GradientBoostingRegressor"
   ]
  },
  {
   "cell_type": "code",
   "execution_count": 52,
   "metadata": {
    "collapsed": true
   },
   "outputs": [],
   "source": [
    "X_train, X_test, y_train, y_test = train_test_split(X, y, test_size=0.33, random_state=42)"
   ]
  },
  {
   "cell_type": "code",
   "execution_count": 56,
   "metadata": {
    "collapsed": false
   },
   "outputs": [],
   "source": [
    "# from sklearn.feature_selection import SelectKBest, chi2\n",
    "# x_new = SelectKBest(chi2, k=50).fit_transform(X, y)\n",
    "# x_new.shape"
   ]
  },
  {
   "cell_type": "code",
   "execution_count": 54,
   "metadata": {
    "collapsed": false,
    "scrolled": true
   },
   "outputs": [
    {
     "name": "stdout",
     "output_type": "stream",
     "text": [
      "Cross Val Score:  -7.11680242633\n"
     ]
    },
    {
     "data": {
      "image/png": "[encoded data removed]",
      "text/plain": [
       "<matplotlib.figure.Figure at 0x11c4e2dd0>"
      ]
     },
     "metadata": {},
     "output_type": "display_data"
    },
    {
     "name": "stdout",
     "output_type": "stream",
     "text": [
      "R2 Score:  0.00507503580547\n"
     ]
    }
   ],
   "source": [
    "dtr = DecisionTreeRegressor(random_state=1)\n",
    "scrs = cross_val_score(dtr, X, y, cv=3)\n",
    "print \"Cross Val Score: \", np.mean(scrs)\n",
    "\n",
    "dtr.fit(X_train, y_train)\n",
    "\n",
    "y_pred = dtr.predict(X_test)\n",
    "plt.scatter(y_pred, y_test)\n",
    "plt.show()\n",
    "print \"R2 Score: \", dtr.score(X_test, y_test)"
   ]
  },
  {
   "cell_type": "code",
   "execution_count": 42,
   "metadata": {
    "collapsed": false
   },
   "outputs": [
    {
     "data": {
      "text/plain": [
       "array([  5.57332385e-01,   9.74810025e-02,   1.68949067e-03,\n",
       "         2.52723971e-03,   2.66899350e-02,   0.00000000e+00,\n",
       "         0.00000000e+00,   0.00000000e+00,   0.00000000e+00,\n",
       "         0.00000000e+00,   0.00000000e+00,   0.00000000e+00,\n",
       "         0.00000000e+00,   0.00000000e+00,   0.00000000e+00,\n",
       "         0.00000000e+00,   0.00000000e+00,   0.00000000e+00,\n",
       "         1.97293596e-02,   0.00000000e+00,   0.00000000e+00,\n",
       "         0.00000000e+00,   0.00000000e+00,   0.00000000e+00,\n",
       "         0.00000000e+00,   0.00000000e+00,   0.00000000e+00,\n",
       "         0.00000000e+00,   0.00000000e+00,   0.00000000e+00,\n",
       "         0.00000000e+00,   0.00000000e+00,   0.00000000e+00,\n",
       "         0.00000000e+00,   0.00000000e+00,   0.00000000e+00,\n",
       "         0.00000000e+00,   0.00000000e+00,   0.00000000e+00,\n",
       "         0.00000000e+00,   0.00000000e+00,   0.00000000e+00,\n",
       "         0.00000000e+00,   0.00000000e+00,   0.00000000e+00,\n",
       "         0.00000000e+00,   0.00000000e+00,   0.00000000e+00,\n",
       "         0.00000000e+00,   0.00000000e+00,   0.00000000e+00,\n",
       "         0.00000000e+00,   0.00000000e+00,   0.00000000e+00,\n",
       "         0.00000000e+00,   0.00000000e+00,   0.00000000e+00,\n",
       "         0.00000000e+00,   0.00000000e+00,   0.00000000e+00,\n",
       "         9.21696257e-03,   0.00000000e+00,   0.00000000e+00,\n",
       "         0.00000000e+00,   0.00000000e+00,   0.00000000e+00,\n",
       "         0.00000000e+00,   0.00000000e+00,   0.00000000e+00,\n",
       "         0.00000000e+00,   0.00000000e+00,   0.00000000e+00,\n",
       "         0.00000000e+00,   0.00000000e+00,   0.00000000e+00,\n",
       "         0.00000000e+00,   0.00000000e+00,   0.00000000e+00,\n",
       "         0.00000000e+00,   0.00000000e+00,   0.00000000e+00,\n",
       "         0.00000000e+00,   0.00000000e+00,   0.00000000e+00,\n",
       "         0.00000000e+00,   0.00000000e+00,   0.00000000e+00,\n",
       "         0.00000000e+00,   0.00000000e+00,   0.00000000e+00,\n",
       "         0.00000000e+00,   0.00000000e+00,   0.00000000e+00,\n",
       "         0.00000000e+00,   0.00000000e+00,   6.87684275e-04,\n",
       "         0.00000000e+00,   0.00000000e+00,   0.00000000e+00,\n",
       "         0.00000000e+00,   0.00000000e+00,   8.59605343e-04,\n",
       "         0.00000000e+00,   0.00000000e+00,   0.00000000e+00,\n",
       "         0.00000000e+00,   0.00000000e+00,   0.00000000e+00,\n",
       "         0.00000000e+00,   0.00000000e+00,   0.00000000e+00,\n",
       "         0.00000000e+00,   0.00000000e+00,   0.00000000e+00,\n",
       "         0.00000000e+00,   0.00000000e+00,   0.00000000e+00,\n",
       "         0.00000000e+00,   0.00000000e+00,   0.00000000e+00,\n",
       "         0.00000000e+00,   0.00000000e+00,   0.00000000e+00,\n",
       "         0.00000000e+00,   0.00000000e+00,   0.00000000e+00,\n",
       "         0.00000000e+00,   0.00000000e+00,   0.00000000e+00,\n",
       "         0.00000000e+00,   0.00000000e+00,   0.00000000e+00,\n",
       "         0.00000000e+00,   0.00000000e+00,   0.00000000e+00,\n",
       "         0.00000000e+00,   0.00000000e+00,   0.00000000e+00,\n",
       "         0.00000000e+00,   0.00000000e+00,   0.00000000e+00,\n",
       "         0.00000000e+00,   0.00000000e+00,   0.00000000e+00,\n",
       "         0.00000000e+00,   0.00000000e+00,   0.00000000e+00,\n",
       "         0.00000000e+00,   0.00000000e+00,   0.00000000e+00,\n",
       "         0.00000000e+00,   0.00000000e+00,   7.73644809e-04,\n",
       "         0.00000000e+00,   0.00000000e+00,   0.00000000e+00,\n",
       "         0.00000000e+00,   0.00000000e+00,   0.00000000e+00,\n",
       "         0.00000000e+00,   0.00000000e+00,   0.00000000e+00,\n",
       "         0.00000000e+00,   0.00000000e+00,   0.00000000e+00,\n",
       "         0.00000000e+00,   0.00000000e+00,   0.00000000e+00,\n",
       "         0.00000000e+00,   0.00000000e+00,   0.00000000e+00,\n",
       "         0.00000000e+00,   0.00000000e+00,   0.00000000e+00,\n",
       "         5.15763206e-04,   0.00000000e+00,   0.00000000e+00,\n",
       "         0.00000000e+00,   0.00000000e+00,   0.00000000e+00,\n",
       "         0.00000000e+00,   0.00000000e+00,   6.87684275e-04,\n",
       "         0.00000000e+00,   0.00000000e+00,   0.00000000e+00,\n",
       "         0.00000000e+00,   0.00000000e+00,   0.00000000e+00,\n",
       "         0.00000000e+00,   0.00000000e+00,   0.00000000e+00,\n",
       "         0.00000000e+00,   0.00000000e+00,   0.00000000e+00,\n",
       "         3.54232971e-03,   0.00000000e+00,   0.00000000e+00,\n",
       "         0.00000000e+00,   0.00000000e+00,   0.00000000e+00,\n",
       "         0.00000000e+00,   0.00000000e+00,   0.00000000e+00,\n",
       "         0.00000000e+00,   0.00000000e+00,   0.00000000e+00,\n",
       "         0.00000000e+00,   0.00000000e+00,   0.00000000e+00,\n",
       "         0.00000000e+00,   0.00000000e+00,   0.00000000e+00,\n",
       "         0.00000000e+00,   0.00000000e+00,   0.00000000e+00,\n",
       "         0.00000000e+00,   4.17235143e-02,   0.00000000e+00,\n",
       "         0.00000000e+00,   0.00000000e+00,   0.00000000e+00,\n",
       "         0.00000000e+00,   8.84165496e-04,   0.00000000e+00,\n",
       "         0.00000000e+00,   0.00000000e+00,   0.00000000e+00,\n",
       "         0.00000000e+00,   0.00000000e+00,   0.00000000e+00,\n",
       "         0.00000000e+00,   0.00000000e+00,   0.00000000e+00,\n",
       "         0.00000000e+00,   0.00000000e+00,   0.00000000e+00,\n",
       "         9.63591541e-03,   0.00000000e+00,   0.00000000e+00,\n",
       "         0.00000000e+00,   0.00000000e+00,   0.00000000e+00,\n",
       "         0.00000000e+00,   0.00000000e+00,   0.00000000e+00,\n",
       "         0.00000000e+00,   0.00000000e+00,   0.00000000e+00,\n",
       "         0.00000000e+00,   0.00000000e+00,   0.00000000e+00,\n",
       "         0.00000000e+00,   0.00000000e+00,   0.00000000e+00,\n",
       "         0.00000000e+00,   0.00000000e+00,   0.00000000e+00,\n",
       "         0.00000000e+00,   0.00000000e+00,   0.00000000e+00,\n",
       "         0.00000000e+00,   0.00000000e+00,   0.00000000e+00,\n",
       "         0.00000000e+00,   0.00000000e+00,   0.00000000e+00,\n",
       "         0.00000000e+00,   0.00000000e+00,   2.00616718e-03,\n",
       "         0.00000000e+00,   0.00000000e+00,   0.00000000e+00,\n",
       "         0.00000000e+00,   0.00000000e+00,   0.00000000e+00,\n",
       "         0.00000000e+00,   0.00000000e+00,   0.00000000e+00,\n",
       "         0.00000000e+00,   0.00000000e+00,   0.00000000e+00,\n",
       "         0.00000000e+00,   0.00000000e+00,   0.00000000e+00,\n",
       "         0.00000000e+00,   0.00000000e+00,   0.00000000e+00,\n",
       "         0.00000000e+00,   0.00000000e+00,   0.00000000e+00,\n",
       "         0.00000000e+00,   0.00000000e+00,   0.00000000e+00,\n",
       "         6.44704008e-04,   0.00000000e+00,   0.00000000e+00,\n",
       "         0.00000000e+00,   0.00000000e+00,   0.00000000e+00,\n",
       "         0.00000000e+00,   0.00000000e+00,   1.11718941e-02,\n",
       "         0.00000000e+00,   0.00000000e+00,   0.00000000e+00,\n",
       "         0.00000000e+00,   0.00000000e+00,   0.00000000e+00,\n",
       "         0.00000000e+00,   0.00000000e+00,   0.00000000e+00,\n",
       "         0.00000000e+00,   0.00000000e+00,   0.00000000e+00,\n",
       "         0.00000000e+00,   0.00000000e+00,   0.00000000e+00,\n",
       "         0.00000000e+00,   0.00000000e+00,   0.00000000e+00,\n",
       "         0.00000000e+00,   0.00000000e+00,   0.00000000e+00,\n",
       "         6.87684275e-04,   0.00000000e+00,   0.00000000e+00,\n",
       "         0.00000000e+00,   0.00000000e+00,   0.00000000e+00,\n",
       "         0.00000000e+00,   4.13271800e-03,   0.00000000e+00,\n",
       "         0.00000000e+00,   0.00000000e+00,   0.00000000e+00,\n",
       "         0.00000000e+00,   6.14003817e-04,   0.00000000e+00,\n",
       "         0.00000000e+00,   0.00000000e+00,   0.00000000e+00,\n",
       "         0.00000000e+00,   0.00000000e+00,   0.00000000e+00,\n",
       "         0.00000000e+00,   0.00000000e+00,   0.00000000e+00,\n",
       "         0.00000000e+00,   0.00000000e+00,   0.00000000e+00,\n",
       "         2.27365613e-03,   0.00000000e+00,   0.00000000e+00,\n",
       "         0.00000000e+00,   0.00000000e+00,   1.04286054e-02,\n",
       "         0.00000000e+00,   0.00000000e+00,   0.00000000e+00,\n",
       "         0.00000000e+00,   0.00000000e+00,   0.00000000e+00,\n",
       "         0.00000000e+00,   0.00000000e+00,   0.00000000e+00,\n",
       "         0.00000000e+00,   0.00000000e+00,   0.00000000e+00,\n",
       "         0.00000000e+00,   0.00000000e+00,   0.00000000e+00,\n",
       "         0.00000000e+00,   0.00000000e+00,   0.00000000e+00,\n",
       "         0.00000000e+00,   0.00000000e+00,   0.00000000e+00,\n",
       "         0.00000000e+00,   0.00000000e+00,   0.00000000e+00,\n",
       "         0.00000000e+00,   0.00000000e+00,   0.00000000e+00,\n",
       "         0.00000000e+00,   0.00000000e+00,   0.00000000e+00,\n",
       "         0.00000000e+00,   0.00000000e+00,   0.00000000e+00,\n",
       "         0.00000000e+00,   0.00000000e+00,   0.00000000e+00,\n",
       "         0.00000000e+00,   0.00000000e+00,   0.00000000e+00,\n",
       "         0.00000000e+00,   0.00000000e+00,   0.00000000e+00,\n",
       "         0.00000000e+00,   0.00000000e+00,   0.00000000e+00,\n",
       "         0.00000000e+00,   0.00000000e+00,   0.00000000e+00,\n",
       "         0.00000000e+00,   0.00000000e+00,   1.29239401e-02,\n",
       "         0.00000000e+00,   0.00000000e+00,   0.00000000e+00,\n",
       "         0.00000000e+00,   0.00000000e+00,   8.59605343e-04,\n",
       "         0.00000000e+00,   0.00000000e+00,   0.00000000e+00,\n",
       "         0.00000000e+00,   0.00000000e+00,   0.00000000e+00,\n",
       "         0.00000000e+00,   0.00000000e+00,   0.00000000e+00,\n",
       "         0.00000000e+00,   0.00000000e+00,   0.00000000e+00,\n",
       "         0.00000000e+00,   0.00000000e+00,   0.00000000e+00,\n",
       "         0.00000000e+00,   0.00000000e+00,   0.00000000e+00,\n",
       "         0.00000000e+00,   0.00000000e+00,   0.00000000e+00,\n",
       "         0.00000000e+00,   0.00000000e+00,   0.00000000e+00,\n",
       "         0.00000000e+00,   0.00000000e+00,   0.00000000e+00,\n",
       "         0.00000000e+00,   0.00000000e+00,   0.00000000e+00,\n",
       "         0.00000000e+00,   0.00000000e+00,   0.00000000e+00,\n",
       "         0.00000000e+00,   0.00000000e+00,   0.00000000e+00,\n",
       "         0.00000000e+00,   0.00000000e+00,   0.00000000e+00,\n",
       "         0.00000000e+00,   0.00000000e+00,   0.00000000e+00,\n",
       "         0.00000000e+00,   0.00000000e+00,   0.00000000e+00,\n",
       "         0.00000000e+00,   0.00000000e+00,   0.00000000e+00,\n",
       "         0.00000000e+00,   0.00000000e+00,   0.00000000e+00,\n",
       "         0.00000000e+00,   0.00000000e+00,   0.00000000e+00,\n",
       "         0.00000000e+00,   0.00000000e+00,   0.00000000e+00,\n",
       "         4.60502863e-04,   0.00000000e+00,   0.00000000e+00,\n",
       "         0.00000000e+00,   0.00000000e+00,   0.00000000e+00,\n",
       "         0.00000000e+00,   0.00000000e+00,   0.00000000e+00,\n",
       "         0.00000000e+00,   0.00000000e+00,   0.00000000e+00,\n",
       "         0.00000000e+00,   0.00000000e+00,   0.00000000e+00,\n",
       "         0.00000000e+00,   0.00000000e+00,   0.00000000e+00,\n",
       "         0.00000000e+00,   0.00000000e+00,   0.00000000e+00,\n",
       "         0.00000000e+00,   0.00000000e+00,   0.00000000e+00,\n",
       "         0.00000000e+00,   0.00000000e+00,   0.00000000e+00,\n",
       "         0.00000000e+00,   0.00000000e+00,   0.00000000e+00,\n",
       "         0.00000000e+00,   0.00000000e+00,   0.00000000e+00,\n",
       "         0.00000000e+00,   0.00000000e+00,   0.00000000e+00,\n",
       "         8.84165496e-04,   0.00000000e+00,   0.00000000e+00,\n",
       "         0.00000000e+00,   0.00000000e+00,   0.00000000e+00,\n",
       "         0.00000000e+00,   0.00000000e+00,   0.00000000e+00,\n",
       "         0.00000000e+00,   0.00000000e+00,   0.00000000e+00,\n",
       "         0.00000000e+00,   0.00000000e+00,   5.15763206e-04,\n",
       "         0.00000000e+00,   0.00000000e+00,   0.00000000e+00,\n",
       "         1.23884299e-02,   0.00000000e+00,   4.11519593e-02,\n",
       "         1.43267557e-03,   0.00000000e+00,   0.00000000e+00,\n",
       "         0.00000000e+00,   1.84201145e-03,   0.00000000e+00,\n",
       "         0.00000000e+00,   0.00000000e+00,   0.00000000e+00,\n",
       "         0.00000000e+00,   0.00000000e+00,   0.00000000e+00,\n",
       "         0.00000000e+00,   0.00000000e+00,   0.00000000e+00,\n",
       "         0.00000000e+00,   0.00000000e+00,   0.00000000e+00,\n",
       "         0.00000000e+00,   0.00000000e+00,   0.00000000e+00,\n",
       "         9.28373771e-04,   0.00000000e+00,   0.00000000e+00,\n",
       "         0.00000000e+00,   0.00000000e+00,   0.00000000e+00,\n",
       "         0.00000000e+00,   0.00000000e+00,   0.00000000e+00,\n",
       "         0.00000000e+00,   0.00000000e+00,   0.00000000e+00,\n",
       "         0.00000000e+00,   0.00000000e+00,   0.00000000e+00,\n",
       "         0.00000000e+00,   0.00000000e+00,   0.00000000e+00,\n",
       "         0.00000000e+00,   0.00000000e+00,   0.00000000e+00,\n",
       "         0.00000000e+00,   0.00000000e+00,   0.00000000e+00,\n",
       "         0.00000000e+00,   0.00000000e+00,   0.00000000e+00,\n",
       "         0.00000000e+00,   0.00000000e+00,   7.73644809e-04,\n",
       "         0.00000000e+00,   0.00000000e+00,   0.00000000e+00,\n",
       "         0.00000000e+00,   0.00000000e+00,   0.00000000e+00,\n",
       "         0.00000000e+00,   0.00000000e+00,   0.00000000e+00,\n",
       "         0.00000000e+00,   0.00000000e+00,   0.00000000e+00,\n",
       "         0.00000000e+00,   0.00000000e+00,   0.00000000e+00,\n",
       "         0.00000000e+00,   0.00000000e+00,   0.00000000e+00,\n",
       "         0.00000000e+00,   0.00000000e+00,   0.00000000e+00,\n",
       "         0.00000000e+00,   0.00000000e+00,   0.00000000e+00,\n",
       "         0.00000000e+00,   0.00000000e+00,   0.00000000e+00,\n",
       "         0.00000000e+00,   0.00000000e+00,   0.00000000e+00,\n",
       "         0.00000000e+00,   0.00000000e+00,   0.00000000e+00,\n",
       "         0.00000000e+00,   0.00000000e+00,   0.00000000e+00,\n",
       "         0.00000000e+00,   0.00000000e+00,   0.00000000e+00,\n",
       "         0.00000000e+00,   0.00000000e+00,   0.00000000e+00,\n",
       "         0.00000000e+00,   0.00000000e+00,   0.00000000e+00,\n",
       "         0.00000000e+00,   0.00000000e+00,   0.00000000e+00,\n",
       "         0.00000000e+00,   0.00000000e+00,   0.00000000e+00,\n",
       "         0.00000000e+00,   0.00000000e+00,   0.00000000e+00,\n",
       "         0.00000000e+00,   0.00000000e+00,   0.00000000e+00,\n",
       "         0.00000000e+00,   0.00000000e+00,   0.00000000e+00,\n",
       "         0.00000000e+00,   0.00000000e+00,   0.00000000e+00,\n",
       "         0.00000000e+00,   0.00000000e+00,   0.00000000e+00,\n",
       "         0.00000000e+00,   0.00000000e+00,   0.00000000e+00,\n",
       "         0.00000000e+00,   5.15763206e-04,   0.00000000e+00,\n",
       "         0.00000000e+00,   0.00000000e+00,   0.00000000e+00,\n",
       "         0.00000000e+00,   0.00000000e+00,   0.00000000e+00,\n",
       "         0.00000000e+00,   0.00000000e+00,   0.00000000e+00,\n",
       "         0.00000000e+00,   0.00000000e+00,   5.15763206e-04,\n",
       "         0.00000000e+00,   0.00000000e+00,   0.00000000e+00,\n",
       "         0.00000000e+00,   0.00000000e+00,   0.00000000e+00,\n",
       "         0.00000000e+00,   0.00000000e+00,   0.00000000e+00,\n",
       "         0.00000000e+00,   0.00000000e+00,   0.00000000e+00,\n",
       "         0.00000000e+00,   0.00000000e+00,   0.00000000e+00,\n",
       "         0.00000000e+00,   0.00000000e+00,   0.00000000e+00,\n",
       "         0.00000000e+00,   0.00000000e+00,   0.00000000e+00,\n",
       "         0.00000000e+00,   0.00000000e+00,   0.00000000e+00,\n",
       "         0.00000000e+00,   0.00000000e+00,   0.00000000e+00,\n",
       "         0.00000000e+00,   0.00000000e+00,   0.00000000e+00,\n",
       "         0.00000000e+00,   0.00000000e+00,   0.00000000e+00,\n",
       "         0.00000000e+00,   0.00000000e+00,   0.00000000e+00,\n",
       "         0.00000000e+00,   0.00000000e+00,   1.47230396e-02,\n",
       "         0.00000000e+00,   0.00000000e+00,   0.00000000e+00,\n",
       "         0.00000000e+00,   0.00000000e+00,   0.00000000e+00,\n",
       "         0.00000000e+00,   0.00000000e+00,   0.00000000e+00,\n",
       "         0.00000000e+00,   0.00000000e+00,   0.00000000e+00,\n",
       "         1.29779625e-02,   0.00000000e+00,   0.00000000e+00,\n",
       "         0.00000000e+00,   0.00000000e+00,   0.00000000e+00,\n",
       "         0.00000000e+00,   0.00000000e+00,   0.00000000e+00,\n",
       "         0.00000000e+00,   0.00000000e+00,   1.32066639e-03,\n",
       "         0.00000000e+00,   0.00000000e+00,   0.00000000e+00,\n",
       "         0.00000000e+00,   7.73644809e-04,   0.00000000e+00,\n",
       "         0.00000000e+00,   0.00000000e+00,   0.00000000e+00,\n",
       "         0.00000000e+00,   0.00000000e+00,   0.00000000e+00,\n",
       "         0.00000000e+00,   0.00000000e+00,   0.00000000e+00,\n",
       "         0.00000000e+00,   0.00000000e+00,   0.00000000e+00,\n",
       "         0.00000000e+00,   0.00000000e+00,   0.00000000e+00,\n",
       "         0.00000000e+00,   0.00000000e+00,   0.00000000e+00,\n",
       "         2.97177847e-03,   0.00000000e+00,   0.00000000e+00,\n",
       "         0.00000000e+00,   0.00000000e+00,   0.00000000e+00,\n",
       "         0.00000000e+00,   0.00000000e+00,   0.00000000e+00,\n",
       "         0.00000000e+00,   0.00000000e+00,   0.00000000e+00,\n",
       "         0.00000000e+00,   0.00000000e+00,   0.00000000e+00,\n",
       "         0.00000000e+00,   0.00000000e+00,   0.00000000e+00,\n",
       "         0.00000000e+00,   0.00000000e+00,   0.00000000e+00,\n",
       "         0.00000000e+00,   0.00000000e+00,   0.00000000e+00,\n",
       "         0.00000000e+00,   0.00000000e+00,   0.00000000e+00,\n",
       "         0.00000000e+00,   0.00000000e+00,   0.00000000e+00,\n",
       "         0.00000000e+00,   0.00000000e+00,   7.59578540e-04,\n",
       "         0.00000000e+00,   0.00000000e+00,   0.00000000e+00,\n",
       "         0.00000000e+00,   0.00000000e+00,   0.00000000e+00,\n",
       "         1.41456655e-02,   0.00000000e+00,   0.00000000e+00,\n",
       "         0.00000000e+00,   0.00000000e+00,   0.00000000e+00,\n",
       "         0.00000000e+00,   0.00000000e+00,   0.00000000e+00,\n",
       "         0.00000000e+00,   0.00000000e+00,   0.00000000e+00,\n",
       "         0.00000000e+00,   0.00000000e+00,   0.00000000e+00,\n",
       "         0.00000000e+00,   0.00000000e+00,   0.00000000e+00,\n",
       "         0.00000000e+00,   0.00000000e+00,   3.90967585e-03,\n",
       "         0.00000000e+00,   0.00000000e+00,   0.00000000e+00,\n",
       "         0.00000000e+00,   0.00000000e+00,   0.00000000e+00,\n",
       "         0.00000000e+00,   0.00000000e+00,   0.00000000e+00,\n",
       "         0.00000000e+00,   0.00000000e+00,   0.00000000e+00,\n",
       "         0.00000000e+00,   0.00000000e+00,   6.87684275e-04,\n",
       "         0.00000000e+00,   3.47872115e-03,   4.29802672e-04,\n",
       "         4.96820645e-03,   8.42413237e-04,   0.00000000e+00,\n",
       "         1.01313206e-02,   0.00000000e+00,   0.00000000e+00,\n",
       "         0.00000000e+00,   0.00000000e+00,   0.00000000e+00,\n",
       "         0.00000000e+00,   0.00000000e+00,   0.00000000e+00,\n",
       "         0.00000000e+00,   0.00000000e+00,   1.52327864e-02,\n",
       "         3.37880788e-03,   0.00000000e+00,   0.00000000e+00,\n",
       "         0.00000000e+00,   0.00000000e+00,   0.00000000e+00,\n",
       "         0.00000000e+00,   0.00000000e+00,   0.00000000e+00,\n",
       "         0.00000000e+00,   1.05525402e-02,   4.96070429e-03,\n",
       "         0.00000000e+00,   0.00000000e+00,   9.44896055e-03,\n",
       "         0.00000000e+00,   0.00000000e+00,   0.00000000e+00,\n",
       "         0.00000000e+00,   0.00000000e+00,   0.00000000e+00,\n",
       "         0.00000000e+00,   0.00000000e+00,   0.00000000e+00,\n",
       "         0.00000000e+00,   0.00000000e+00,   0.00000000e+00,\n",
       "         0.00000000e+00,   0.00000000e+00,   8.84165496e-04,\n",
       "         0.00000000e+00,   0.00000000e+00,   0.00000000e+00,\n",
       "         0.00000000e+00,   2.29316256e-03,   0.00000000e+00,\n",
       "         0.00000000e+00,   0.00000000e+00])"
      ]
     },
     "execution_count": 42,
     "metadata": {},
     "output_type": "execute_result"
    }
   ],
   "source": [
    "dtr.feature_importances_"
   ]
  },
  {
   "cell_type": "code",
   "execution_count": 39,
   "metadata": {
    "collapsed": false
   },
   "outputs": [
    {
     "name": "stdout",
     "output_type": "stream",
     "text": [
      "Cross Val Score:  -5.72347359469\n"
     ]
    },
    {
     "data": {
      "image/png": "[encoded data removed]",
      "text/plain": [
       "<matplotlib.figure.Figure at 0x11ca2c350>"
      ]
     },
     "metadata": {},
     "output_type": "display_data"
    },
    {
     "name": "stdout",
     "output_type": "stream",
     "text": [
      "R2 Score:  0.277529422754\n"
     ]
    }
   ],
   "source": [
    "RFR = RandomForestRegressor(random_state=1)\n",
    "scrs = cross_val_score(RFR, X, y, cv=3)\n",
    "print \"Cross Val Score: \", np.mean(scrs)\n",
    "\n",
    "RFR.fit(X_train, y_train)\n",
    "\n",
    "y_pred = RFR.predict(X_test)\n",
    "plt.scatter(y_pred, y_test)\n",
    "plt.show()\n",
    "print \"R2 Score: \", RFR.score(X_test, y_test)"
   ]
  },
  {
   "cell_type": "code",
   "execution_count": 40,
   "metadata": {
    "collapsed": false
   },
   "outputs": [
    {
     "name": "stdout",
     "output_type": "stream",
     "text": [
      "cross Val Score:  -8.50185743709\n"
     ]
    },
    {
     "data": {
      "image/png": "[encoded data removed]",
      "text/plain": [
       "<matplotlib.figure.Figure at 0x11c449910>"
      ]
     },
     "metadata": {},
     "output_type": "display_data"
    },
    {
     "name": "stdout",
     "output_type": "stream",
     "text": [
      "R2 Score:  0.303356316568\n"
     ]
    }
   ],
   "source": [
    "ABR = AdaBoostRegressor(random_state=1)\n",
    "scrs = cross_val_score(ABR, X, y, cv=3)\n",
    "print \"cross Val Score: \", np.mean(scrs)\n",
    "\n",
    "ABR.fit(X_train, y_train)\n",
    "\n",
    "y_pred = ABR.predict(X_test)\n",
    "plt.scatter(y_pred, y_test)\n",
    "plt.show()\n",
    "print \"R2 Score: \", ABR.score(X_test, y_test)"
   ]
  },
  {
   "cell_type": "code",
   "execution_count": 41,
   "metadata": {
    "collapsed": false
   },
   "outputs": [
    {
     "name": "stdout",
     "output_type": "stream",
     "text": [
      "Cross Val Score:  -6.56506247895\n"
     ]
    },
    {
     "data": {
      "image/png": "[encoded data removed]",
      "text/plain": [
       "<matplotlib.figure.Figure at 0x11cdd0bd0>"
      ]
     },
     "metadata": {},
     "output_type": "display_data"
    },
    {
     "name": "stdout",
     "output_type": "stream",
     "text": [
      "R2 Score:  0.272907918404\n"
     ]
    }
   ],
   "source": [
    "GBR = GradientBoostingRegressor(random_state=1)\n",
    "scrs = cross_val_score(GBR, X, y, cv=3)\n",
    "print \"Cross Val Score: \", np.mean(scrs)\n",
    "\n",
    "GBR.fit(X_train, y_train)\n",
    "\n",
    "y_pred = GBR.predict(X_test)\n",
    "plt.scatter(y_pred, y_test)\n",
    "plt.show()\n",
    "print \"R2 Score: \", GBR.score(X_test, y_test)"
   ]
  },
  {
   "cell_type": "code",
   "execution_count": 44,
   "metadata": {
    "collapsed": true
   },
   "outputs": [],
   "source": [
    "newx = df[['Gross', 'Year']]\n",
    "y = df.imdbRating"
   ]
  },
  {
   "cell_type": "code",
   "execution_count": 45,
   "metadata": {
    "collapsed": false
   },
   "outputs": [],
   "source": [
    "X_train, X_test, y_train, y_test = train_test_split(newx, y, test_size=0.33, random_state=42)"
   ]
  },
  {
   "cell_type": "code",
   "execution_count": 46,
   "metadata": {
    "collapsed": false
   },
   "outputs": [
    {
     "name": "stdout",
     "output_type": "stream",
     "text": [
      "Cross Val Score:  -17.1937974012\n",
      "[ 0.59585643  0.40414357]\n"
     ]
    },
    {
     "data": {
      "image/png": "[encoded data removed]",
      "text/plain": [
       "<matplotlib.figure.Figure at 0x11d0dd310>"
      ]
     },
     "metadata": {},
     "output_type": "display_data"
    },
    {
     "name": "stdout",
     "output_type": "stream",
     "text": [
      "R2 Score:  -0.595253786385\n"
     ]
    }
   ],
   "source": [
    "dtr = DecisionTreeRegressor(random_state=1)\n",
    "scrs = cross_val_score(dtr, newx, y, cv=3)\n",
    "print \"Cross Val Score: \", np.mean(scrs)\n",
    "\n",
    "dtr.fit(X_train, y_train)\n",
    "\n",
    "y_pred = dtr.predict(X_test)\n",
    "print dtr.feature_importances_\n",
    "plt.scatter(y_pred, y_test)\n",
    "plt.show()\n",
    "print \"R2 Score: \", dtr.score(X_test, y_test)"
   ]
  },
  {
   "cell_type": "code",
   "execution_count": 47,
   "metadata": {
    "collapsed": false
   },
   "outputs": [
    {
     "name": "stdout",
     "output_type": "stream",
     "text": [
      "Cross Val Score:  -12.0105408192\n"
     ]
    },
    {
     "data": {
      "image/png": "[encoded data removed]",
      "text/plain": [
       "<matplotlib.figure.Figure at 0x11c3f8810>"
      ]
     },
     "metadata": {},
     "output_type": "display_data"
    },
    {
     "name": "stdout",
     "output_type": "stream",
     "text": [
      "R2 Score:  -0.112630125669\n"
     ]
    }
   ],
   "source": [
    "GBR = GradientBoostingRegressor(random_state=1)\n",
    "scrs = cross_val_score(GBR, newx, y, cv=3)\n",
    "print \"Cross Val Score: \", np.mean(scrs)\n",
    "\n",
    "GBR.fit(X_train, y_train)\n",
    "\n",
    "y_pred = GBR.predict(X_test)\n",
    "plt.scatter(y_pred, y_test)\n",
    "plt.show()\n",
    "print \"R2 Score: \", GBR.score(X_test, y_test)"
   ]
  },
  {
   "cell_type": "code",
   "execution_count": null,
   "metadata": {
    "collapsed": true
   },
   "outputs": [],
   "source": [
    "http://www.mattrussell.me/new-blog/2016/11/14/imdb-decision-tree-rating-predictor"
   ]
  }
 ],
 "metadata": {
  "anaconda-cloud": {},
  "kernelspec": {
   "display_name": "Python [conda root]",
   "language": "python",
   "name": "conda-root-py"
  },
  "language_info": {
   "codemirror_mode": {
    "name": "ipython",
    "version": 2
   },
   "file_extension": ".py",
   "mimetype": "text/x-python",
   "name": "python",
   "nbconvert_exporter": "python",
   "pygments_lexer": "ipython2",
   "version": "2.7.12"
  }
 },
 "nbformat": 4,
 "nbformat_minor": 1
}
